{
 "cells": [
  {
   "cell_type": "markdown",
   "metadata": {},
   "source": [
    "# Validação Holdout"
   ]
  },
  {
   "cell_type": "code",
   "execution_count": 1,
   "metadata": {},
   "outputs": [],
   "source": [
    "import pandas as pd\n",
    "import numpy as np\n",
    "import matplotlib.pyplot as plt\n",
    "from sklearn import datasets as ds\n",
    "from sklearn.datasets import make_classification\n",
    "from sklearn.model_selection import train_test_split\n",
    "from sklearn.tree import DecisionTreeClassifier\n",
    "from sklearn.metrics import accuracy_score"
   ]
  },
  {
   "cell_type": "markdown",
   "metadata": {},
   "source": [
    "## Dados Sinteticos"
   ]
  },
  {
   "cell_type": "code",
   "execution_count": 2,
   "metadata": {},
   "outputs": [],
   "source": [
    "X,y = make_classification( n_samples=20000,\n",
    "                            n_features=2,\n",
    "                            n_informative=2,\n",
    "                            n_redundant=0,\n",
    "                            random_state=42)\n",
    "\n",
    "X,X_prod,y,y_prod = train_test_split(X,y,test_size=0.2,random_state=42)"
   ]
  },
  {
   "cell_type": "code",
   "execution_count": 3,
   "metadata": {},
   "outputs": [
    {
     "data": {
      "text/plain": [
       "(16000, 2)"
      ]
     },
     "execution_count": 3,
     "metadata": {},
     "output_type": "execute_result"
    }
   ],
   "source": [
    "df = pd.DataFrame(X)\n",
    "df.shape"
   ]
  },
  {
   "cell_type": "markdown",
   "metadata": {},
   "source": [
    "## Não há Separação dos dados"
   ]
  },
  {
   "cell_type": "code",
   "execution_count": 4,
   "metadata": {},
   "outputs": [
    {
     "data": {
      "text/plain": [
       "1.0"
      ]
     },
     "execution_count": 4,
     "metadata": {},
     "output_type": "execute_result"
    }
   ],
   "source": [
    "# Define o modelo\n",
    "model = DecisionTreeClassifier(max_depth=38)\n",
    "model.fit(X,y)\n",
    "\n",
    "#Classification sobre os dados de treinamento\n",
    "y_hat = model.predict(X)\n",
    "acc = accuracy_score(y,y_hat)\n",
    "acc"
   ]
  },
  {
   "cell_type": "markdown",
   "metadata": {},
   "source": [
    "## Publicação do Modelo em Produção"
   ]
  },
  {
   "cell_type": "code",
   "execution_count": 5,
   "metadata": {},
   "outputs": [
    {
     "data": {
      "text/plain": [
       "0.8805"
      ]
     },
     "execution_count": 5,
     "metadata": {},
     "output_type": "execute_result"
    }
   ],
   "source": [
    "yhat_prod = model.predict( X_prod)\n",
    "acc_prod = accuracy_score(y_prod,yhat_prod)\n",
    "\n",
    "acc_prod"
   ]
  },
  {
   "cell_type": "markdown",
   "metadata": {},
   "source": [
    "## Estratégia Treino-Teste"
   ]
  },
  {
   "cell_type": "code",
   "execution_count": 6,
   "metadata": {},
   "outputs": [],
   "source": [
    "# separa os dados em Treinamento e teste\n",
    "\n",
    "X_train,X_teste,y_train,y_teste= train_test_split(X,y,test_size=0.2,random_state=42)"
   ]
  },
  {
   "cell_type": "code",
   "execution_count": 7,
   "metadata": {},
   "outputs": [
    {
     "data": {
      "text/plain": [
       "0.8825"
      ]
     },
     "execution_count": 7,
     "metadata": {},
     "output_type": "execute_result"
    }
   ],
   "source": [
    "#Modelo Treinado com os dados de treinamento\n",
    "\n",
    "model = DecisionTreeClassifier(max_depth=38)\n",
    "model.fit(X_train,y_train)\n",
    "\n",
    "#Classificação sobre os dados de teste\n",
    "\n",
    "yhat_test = model.predict(X_teste)\n",
    "acc = accuracy_score(y_teste, yhat_test)\n",
    "acc"
   ]
  },
  {
   "cell_type": "markdown",
   "metadata": {},
   "source": [
    "## Escplha os parametros do Algoritimo"
   ]
  },
  {
   "cell_type": "code",
   "execution_count": 8,
   "metadata": {},
   "outputs": [],
   "source": [
    "values = [i for i in range (1,60)]\n",
    "\n",
    "teste_score = []\n",
    "for i in values:\n",
    "    model = DecisionTreeClassifier(max_depth=i)\n",
    "    model.fit(X_train,y_train)\n",
    "\n",
    "    # classificação sobre o teste\n",
    "    yhat_test = model.predict(X_teste)\n",
    "    acc_test = accuracy_score(y_teste, yhat_test)\n",
    "\n",
    "    teste_score.append(acc_test)"
   ]
  },
  {
   "cell_type": "code",
   "execution_count": 9,
   "metadata": {},
   "outputs": [
    {
     "data": {
      "text/plain": [
       "[<matplotlib.lines.Line2D at 0x7f920825c5b0>]"
      ]
     },
     "execution_count": 9,
     "metadata": {},
     "output_type": "execute_result"
    },
    {
     "data": {
      "image/png": "[encoded data removed]",
      "text/plain": [
       "<Figure size 432x288 with 1 Axes>"
      ]
     },
     "metadata": {
      "needs_background": "light"
     },
     "output_type": "display_data"
    }
   ],
   "source": [
    "plt.plot(values, teste_score,'-o',label='teste')"
   ]
  },
  {
   "cell_type": "markdown",
   "metadata": {},
   "source": [
    "## Publicacção do Algoritmo em produção"
   ]
  },
  {
   "cell_type": "code",
   "execution_count": 10,
   "metadata": {},
   "outputs": [
    {
     "data": {
      "text/plain": [
       "0.91375"
      ]
     },
     "execution_count": 10,
     "metadata": {},
     "output_type": "execute_result"
    }
   ],
   "source": [
    "# Modelo Treinado e Validado\n",
    "model_last = DecisionTreeClassifier( max_depth=6 )\n",
    "model_last.fit( np.concatenate( (X_train,X_teste) ), \n",
    "               np.concatenate( (y_train,y_teste) ) ) # Usado quando não se tem dados o suficiente, pode ocasionar overfit devido a mistura do treino com teste\n",
    "yhat_prod = model_last.predict( X_prod)\n",
    "\n",
    "acc_prod = accuracy_score( y_prod , yhat_prod)\n",
    "acc_prod"
   ]
  },
  {
   "cell_type": "markdown",
   "metadata": {},
   "source": [
    "# 2.0 Estratégia Valudation Holdout ( Treino-Valudação-Test )"
   ]
  },
  {
   "cell_type": "code",
   "execution_count": 11,
   "metadata": {},
   "outputs": [],
   "source": [
    "#usando quando se tem dados para isso\n",
    "\n",
    "#Separacao entre Treino e Validção e Teste\n",
    "X,y = make_classification( n_samples=20000,\n",
    "                            n_features=2,\n",
    "                            n_informative=2,\n",
    "                            n_redundant=0,\n",
    "                            random_state=42)\n",
    "\n",
    "X_train,X_temp,y_train,y_temp= train_test_split( X_train,y_train, test_size=0.2,random_state=42)\n",
    "\n",
    "X_val,X_test,y_val,y_test= train_test_split( X_temp,y_temp, test_size=0.5,random_state=42)\n",
    "\n"
   ]
  },
  {
   "cell_type": "code",
   "execution_count": 12,
   "metadata": {},
   "outputs": [],
   "source": [
    "values = [i for i in range (1,60)]\n",
    "\n",
    "val_score = []\n",
    "for i in values:\n",
    "    model = DecisionTreeClassifier(max_depth=i)\n",
    "    model.fit(X_train,y_train)\n",
    "\n",
    "    # classificação sobre o teste\n",
    "    yhat_val = model.predict(X_val)\n",
    "    acc_val = accuracy_score(y_val, yhat_val)\n",
    "\n",
    "    val_score.append( acc_val)"
   ]
  },
  {
   "cell_type": "code",
   "execution_count": 13,
   "metadata": {},
   "outputs": [
    {
     "data": {
      "text/plain": [
       "[<matplotlib.lines.Line2D at 0x7f921ba9bd00>]"
      ]
     },
     "execution_count": 13,
     "metadata": {},
     "output_type": "execute_result"
    },
    {
     "data": {
      "image/png": "[encoded data removed]",
      "text/plain": [
       "<Figure size 432x288 with 1 Axes>"
      ]
     },
     "metadata": {
      "needs_background": "light"
     },
     "output_type": "display_data"
    }
   ],
   "source": [
    "plt.plot(values, val_score,'-o',label='validação')"
   ]
  },
  {
   "cell_type": "code",
   "execution_count": 14,
   "metadata": {},
   "outputs": [
    {
     "name": "stdout",
     "output_type": "stream",
     "text": [
      "Qual e a Capacidade do Algoritmo prever dados validação? \n",
      " 0.9140625\n"
     ]
    }
   ],
   "source": [
    "model = DecisionTreeClassifier(max_depth=5)\n",
    "model.fit(X_train,y_train)\n",
    "yhat_val = model.predict(X_val)\n",
    "acc_val = accuracy_score(y_val, yhat_val)\n",
    "print(f'Qual e a Capacidade do Algoritmo prever dados validação? \\n {acc_val}')\n"
   ]
  },
  {
   "cell_type": "code",
   "execution_count": 15,
   "metadata": {},
   "outputs": [
    {
     "name": "stdout",
     "output_type": "stream",
     "text": [
      "Qual e a Capacidade do Algoritmo prever dados que ele nunca viu? \n",
      " 0.90390625\n"
     ]
    }
   ],
   "source": [
    "# Testando a capacidade de Generalização do modelo para dados que ele nunca viu\n",
    "model_last = DecisionTreeClassifier(max_depth=5)\n",
    "\n",
    "model_last.fit(np.concatenate( (X_train,X_val) ), \n",
    "               np.concatenate( (y_train,y_val) ) )\n",
    "\n",
    "y_hat_test = model_last.predict( X_test )\n",
    "acc_prod = accuracy_score(y_test,y_hat_test)\n",
    "\n",
    "print(f'Qual e a Capacidade do Algoritmo prever dados que ele nunca viu? \\n {acc_prod}')"
   ]
  },
  {
   "cell_type": "markdown",
   "metadata": {},
   "source": [
    "Deve se retreinar o modelo de tempos em tempos para garantir que o modelo esteja o melhor possivel"
   ]
  }
 ],
 "metadata": {
  "kernelspec": {
   "display_name": "Python 3 (ipykernel)",
   "language": "python",
   "name": "python3"
  },
  "language_info": {
   "codemirror_mode": {
    "name": "ipython",
    "version": 3
   },
   "file_extension": ".py",
   "mimetype": "text/x-python",
   "name": "python",
   "nbconvert_exporter": "python",
   "pygments_lexer": "ipython3",
   "version": "3.9.12"
  }
 },
 "nbformat": 4,
 "nbformat_minor": 4
}
