{
 "cells": [
  {
   "cell_type": "markdown",
   "metadata": {},
   "source": [
    "Regularização L1 Lasso pode ser usada para seleção de fearture\n",
    "\n",
    "onde:\n",
    "    lambda é o parâmetro de regularização que controla a força da penalidade\n",
    "    |theta| é o valor absoluto do j-ésimo parâmetro do modelo.\n",
    "\n",
    "A adição da penalidade de regularização L1 incentiva o modelo a utilizar apenas os parâmetros\n",
    "mais importantes, zerando os parâmetros menos relevantes.\n",
    "\n",
    "Uso: Quando se fez Seleção de Feaatures ou quando se quer fazer seleção de features"
   ]
  },
  {
   "cell_type": "markdown",
   "metadata": {},
   "source": [
    "Regularização L2 Ridge pode ser usada para seleção de fearture\n",
    "\n",
    "onde:\n",
    "    lambda é o parâmetro de regularização que controla a força da penalidade.\n",
    "    (theta)^2 é o valor absoluto do j-ésimo parâmetro do modelo.\n",
    "\n",
    "A penalidade L2 incentiva o modelo a ter parâmetros menores, pois a função de custo é\n",
    "minimizada quando os valores dos parâmetros são pequenos.\n",
    "A regularização L2 também tem uma propriedade chamada \"smoothing\" (suavização), que suaviza\n",
    "as diferenças entre os valores dos parâmetros, reduzindo a complexidade do modelo e evitando o\n",
    "overfitting.\n",
    "\n",
    "Uso: Quando não se quer fazer seleção de features"
   ]
  },
  {
   "cell_type": "markdown",
   "metadata": {},
   "source": [
    "A regularização L1 e L2 ( Elastic Net ) \n",
    "\n",
    "A penalidade L2 é proporcional ao quadrado da magnitude dos parâmetros, incentivando o modelo\n",
    "a ter parâmetros menores.\n",
    "A regularização Elastic Net é útil quando há muitas características nos dados que podem ser\n",
    "irrelevantes para a predição.\n",
    "O termo de regularização L1 ajuda a tornar os coeficientes dessas características irrelevantes\n",
    "iguais a zero, enquanto o termo L2 ajuda a evitar a superestimação dos coeficientes restantes.\n",
    "\n",
    "onde:\n",
    "    lambda 1 é o parâmetro de regularização que controla a força da penalidade L1\n",
    "    lambda 2 é o parâmetro de regularização que controla a força da penalidade L2\n",
    "\n",
    "1. Quando lambda 1 é zero, a regularização é equivalente à regularização L2 (Ridge).\n",
    "2. Quando lambda 2 é zero, a regularização é equivalente à regularização L1 (Lasso ).\n",
    "3. Quando lamb"
   ]
  },
  {
   "cell_type": "markdown",
   "metadata": {},
   "source": [
    "# 4. Quando usar cada regularização?\n",
    "\n",
    "#### 4.1 Quando usar a regularização L1 ?\n",
    "\n",
    "Quando não houver uma seleção de features antes do treinamento do\n",
    "algoritmo\n",
    "\n",
    "A regularização L1 é particularmente útil quando o conjunto de dados de treinamento tem\n",
    "muitas características, algumas das quais podem ser irrelevantes ou redundantes.\n",
    "\n",
    "A regularização L1 pode ajudar a selecionar as características mais relevantes para a predição,\n",
    "eliminando as características irrelevantes.\n",
    "\n",
    "#### 4.2 Quando usar a regularização L2 ?\n",
    "\n",
    "Quando tiver ocorrido uma seleção de features antes do treinamento do\n",
    "algoritmo\n",
    "\n",
    "Em geral, a regularização L2 é útil quando o modelo tem muitos recursos e o conjunto de\n",
    "dados de treinamento é relativamente pequeno. \n",
    "\n",
    "Ela também é eficaz quando os recursos são\n",
    "altamente correlacionados, pois ajuda a reduzir a multicolinearidade.\n",
    "\n",
    "#### 4.3 Quando usar a regularização Elastic Net ?\n",
    "\n",
    "Quando tiver ocorrido uma seleção de features antes do treinamento do\n",
    "algoritmo e você quer usar uma segunda seleção de features.\n",
    "\n",
    "A regularização Elastic Net é uma combinação da regularização L1 e L2 e permite controlar a\n",
    "força relativa de cada técnica de regularização usando um parâmetro de elasticidade. \n",
    "\n",
    "Isso pode torná-la mais flexível do que as outras duas técnicas, mas também mais difícil de ajustar."
   ]
  }
 ],
 "metadata": {
  "language_info": {
   "name": "python"
  },
  "orig_nbformat": 4
 },
 "nbformat": 4,
 "nbformat_minor": 2
}
