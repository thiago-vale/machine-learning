{
 "cells": [
  {
   "attachments": {},
   "cell_type": "markdown",
   "metadata": {},
   "source": [
    "1. Rafaça o código de treinamento da aula 12: “K-Nearest Neighbors"
   ]
  },
  {
   "attachments": {},
   "cell_type": "markdown",
   "metadata": {},
   "source": [
    "2. Retreine o algoritmo com os seguintes valores para K: [3, 5, 7, 9, 11, 13,\n",
    "15, 17, 19 e 21] e anote a acurácia"
   ]
  },
  {
   "attachments": {},
   "cell_type": "markdown",
   "metadata": {},
   "source": [
    "3. Qual o problema principal de usar a métrica acurácia? Escreve um\n",
    "exemplo hipotético, no qual o problema acontece."
   ]
  },
  {
   "attachments": {},
   "cell_type": "markdown",
   "metadata": {},
   "source": [
    "4. Explique com um pequeno texto ilustrando a diferença entre a métrica de\n",
    "Precision e Recall e mostrando quando usa deve ser escolhida em relação a"
   ]
  },
  {
   "attachments": {},
   "cell_type": "markdown",
   "metadata": {},
   "source": [
    "5. Escreve um trecho de código que automatize o treinamento do algoritmo\n",
    "K-NN, a fim de encontrar o melhor valor para K, do exercício 2."
   ]
  },
  {
   "attachments": {},
   "cell_type": "markdown",
   "metadata": {},
   "source": [
    "6. Escreva um pequeno texto, explicando as 6 denominações da matriz de\n",
    "confusão: P, N, TP, FN, FP e TN"
   ]
  },
  {
   "attachments": {},
   "cell_type": "markdown",
   "metadata": {},
   "source": [
    "7. No conjunto de dados usado na aula 12: “K-Nearest Neighbors - Prática”,\n",
    "existe alguma variável que fere as premissas do K-NN? Se sim ou não,\n",
    "explique."
   ]
  },
  {
   "attachments": {},
   "cell_type": "markdown",
   "metadata": {},
   "source": [
    "8. Faça a seguinte bateria de testes"
   ]
  },
  {
   "attachments": {},
   "cell_type": "markdown",
   "metadata": {},
   "source": [
    " Faça a matriz de confusão, calcule a acurácia, recall e precision do\n",
    "conjunto de dados original"
   ]
  },
  {
   "attachments": {},
   "cell_type": "markdown",
   "metadata": {},
   "source": [
    "Anote os resultados."
   ]
  },
  {
   "attachments": {},
   "cell_type": "markdown",
   "metadata": {},
   "source": [
    " Mantenha a proporção de 50% das linhas da planilha de dados com\n",
    "exemplos da classe “Conceder” e 50% com a classe “Negar”"
   ]
  },
  {
   "attachments": {},
   "cell_type": "markdown",
   "metadata": {},
   "source": [
    "Faça a matriz de confusão, calcule a acurácia, recall e precision."
   ]
  },
  {
   "attachments": {},
   "cell_type": "markdown",
   "metadata": {},
   "source": [
    "Anote os resultados."
   ]
  },
  {
   "attachments": {},
   "cell_type": "markdown",
   "metadata": {},
   "source": [
    "Classe desbalanceada 90/10"
   ]
  },
  {
   "attachments": {},
   "cell_type": "markdown",
   "metadata": {},
   "source": [
    "Mantenha a proporção de 90% das linhas da planilha de dados com\n",
    "exemplos da classe “Conceder” e 10% com a classe “Negar”."
   ]
  },
  {
   "attachments": {},
   "cell_type": "markdown",
   "metadata": {},
   "source": [
    "Faça a matriz de confusão, calcule a acurácia, recall e precision."
   ]
  },
  {
   "attachments": {},
   "cell_type": "markdown",
   "metadata": {},
   "source": [
    "Anote os resultados."
   ]
  },
  {
   "attachments": {},
   "cell_type": "markdown",
   "metadata": {},
   "source": [
    "Refaça o exercícios 8.3 com as seguintes variações: 80/20, 70/30 e\n",
    "60/40"
   ]
  },
  {
   "attachments": {},
   "cell_type": "markdown",
   "metadata": {},
   "source": [
    "Crie um tabela de comparação entre os resultados das 3 métricas (\n",
    "acurácia, recall e precision ) para cada uma das proporções ( 50/50, 90/10,\n",
    "80/20, 70/30, 60/40 ) e responda as seguintes perguntas:"
   ]
  },
  {
   "attachments": {},
   "cell_type": "markdown",
   "metadata": {},
   "source": [
    "Como a métrica da acurácia se comporta com a variação do\n",
    "desbalanceamento do conjunto de dados?"
   ]
  },
  {
   "attachments": {},
   "cell_type": "markdown",
   "metadata": {},
   "source": [
    "O que acontece com a métrica “Precison” e “Recall” a medida que\n",
    "os conjunto de dados tendem ao balanceamento de 50/50?"
   ]
  },
  {
   "attachments": {},
   "cell_type": "markdown",
   "metadata": {},
   "source": [
    "Observando as respostas anteriores, quais são as ações que\n",
    "aumentam ou diminuem a métrica de “Precision” ou “Recall” de um\n",
    "problema de negócio?"
   ]
  },
  {
   "attachments": {},
   "cell_type": "markdown",
   "metadata": {},
   "source": [
    "Escreva um artigo para blog da Comunidade DS, descrevendo o seu\n",
    "aprendizado em relação ao comportamento das métricas de Precision,\n",
    "Recall e Acurácia a partir dos seus experimentos com os dados\n",
    "desbalanceados."
   ]
  }
 ],
 "metadata": {
  "language_info": {
   "name": "python"
  },
  "orig_nbformat": 4
 },
 "nbformat": 4,
 "nbformat_minor": 2
}
