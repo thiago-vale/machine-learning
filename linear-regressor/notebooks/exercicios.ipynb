{
 "cells": [
  {
   "cell_type": "markdown",
   "metadata": {},
   "source": [
    "1. Rafaça o código de treinamento da aula 19: “Linear Regression - Prática”\n",
    "no seu computador usando o Jupyter Notebook ou o Google Colabs e compute\n",
    "o R2, o MSE e o RMSE"
   ]
  },
  {
   "cell_type": "markdown",
   "metadata": {},
   "source": [
    "2. Qual o problema principal de usar a métrica MSE? Escreve um exemplo\n",
    "hipotético, no qual o problema acontece."
   ]
  },
  {
   "cell_type": "markdown",
   "metadata": {},
   "source": [
    "3. Explique com um pequeno texto ilustrando o benefício de usar a métrica\n",
    "RMSE."
   ]
  },
  {
   "cell_type": "markdown",
   "metadata": {},
   "source": [
    "4. Modifique 5% das linhas de algumas colunas, adicionando outliers e\n",
    "refaça as métricas de R2, MSE e RMSE."
   ]
  },
  {
   "cell_type": "markdown",
   "metadata": {},
   "source": [
    "5. Faça a seguinte bateria de testes"
   ]
  },
  {
   "cell_type": "markdown",
   "metadata": {},
   "source": [
    "5.1 Refaça o exercícios 4 com as seguintes quantidade de outliers: 2%,\n",
    "5%, 10%, 20% e 30%."
   ]
  },
  {
   "cell_type": "markdown",
   "metadata": {},
   "source": [
    "5.3 Crie um tabela de comparação entre os resultados das 3 métricas (\n",
    "r2, MSE e RMSE ) para cada uma das proporções de outliers ( 2%, 5%,\n",
    "10%, 20% e 30% ) e responda as seguintes perguntas:\n",
    "1. Como as métricas R2, MSE e RMSE se comportam com a variação\n",
    "outliers no conjunto de dados?\n",
    "2. Observando as respostas anteriores, quais são as ações que\n",
    "aumentam ou diminuem as métricas de “R2”, “MSE” ou “RMSE” de\n",
    "um problema de negócio?"
   ]
  },
  {
   "cell_type": "markdown",
   "metadata": {},
   "source": [
    "5.4 Escreva um artigo para blog da Comunidade DS, descrevendo o seu\n",
    "aprendizado em relação ao comportamento das métricas, a partir dos seus\n",
    "experimentos com outliers presente nos dados."
   ]
  }
 ],
 "metadata": {
  "language_info": {
   "name": "python"
  },
  "orig_nbformat": 4
 },
 "nbformat": 4,
 "nbformat_minor": 2
}
